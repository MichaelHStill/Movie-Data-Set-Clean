{
  "nbformat": 4,
  "nbformat_minor": 0,
  "metadata": {
    "colab": {
      "provenance": []
    },
    "kernelspec": {
      "name": "python3",
      "display_name": "Python 3"
    },
    "language_info": {
      "name": "python"
    }
  },
  "cells": [
    {
      "cell_type": "code",
      "execution_count": null,
      "metadata": {
        "colab": {
          "base_uri": "https://localhost:8080/"
        },
        "id": "q8JAl_I-TUVm",
        "outputId": "b291cea0-8d39-41de-99cf-1c9c07711412"
      },
      "outputs": [
        {
          "output_type": "stream",
          "name": "stdout",
          "text": [
            "5421\n",
            "7668\n"
          ]
        }
      ],
      "source": [
        "#cleaning the Movies data set\n",
        "\n",
        "import pandas as pd\n",
        "\n",
        "#loading in the uploaded Excel file\n",
        "movies = pd.read_excel('/content/movies.xlsx')\n",
        "\n",
        "#remove rows with any missing values\n",
        "movies_cleaned = movies.dropna()\n",
        "\n",
        "#number of rows after removing blanks\n",
        "num_rows = len(movies_cleaned)\n",
        "print(num_rows)\n",
        "\n",
        "#number of rows in original data set\n",
        "num_rows_orig = len(movies)\n",
        "print(num_rows_orig)\n",
        "\n",
        "#Save dataset as new .xlsx file\n",
        "\n",
        "#set output path\n",
        "output_path = ('/content/movies_cleaned.xlsx')\n",
        "movies_cleaned.to_excel(output_path, index=False)"
      ]
    }
  ]
}